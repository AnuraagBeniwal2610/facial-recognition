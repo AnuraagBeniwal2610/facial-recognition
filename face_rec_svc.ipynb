{
 "cells": [
  {
   "cell_type": "code",
   "execution_count": null,
   "metadata": {},
   "outputs": [],
   "source": [
    "from platform import python_version\n",
    "\n",
    "print(python_version())"
   ]
  },
  {
   "cell_type": "code",
   "execution_count": null,
   "metadata": {},
   "outputs": [],
   "source": [
    "pip install joblib"
   ]
  },
  {
   "cell_type": "code",
   "execution_count": null,
   "metadata": {},
   "outputs": [],
   "source": [
    "pip install cmake"
   ]
  },
  {
   "cell_type": "code",
   "execution_count": null,
   "metadata": {},
   "outputs": [],
   "source": [
    "pip install dlib"
   ]
  },
  {
   "cell_type": "code",
   "execution_count": null,
   "metadata": {},
   "outputs": [],
   "source": [
    "pip install opencv-python\n"
   ]
  },
  {
   "cell_type": "code",
   "execution_count": 3,
   "metadata": {},
   "outputs": [
    {
     "name": "stdout",
     "output_type": "stream",
     "text": [
      "Requirement already satisfied: streamlit in c:\\users\\anuraag\\.conda\\envs\\gputest\\lib\\site-packages (0.69.2)\n",
      "Requirement already satisfied: python-dateutil in c:\\users\\anuraag\\.conda\\envs\\gputest\\lib\\site-packages (from streamlit) (2.8.1)\n",
      "Requirement already satisfied: tzlocal in c:\\users\\anuraag\\.conda\\envs\\gputest\\lib\\site-packages (from streamlit) (2.1)\n",
      "Requirement already satisfied: pydeck>=0.1.dev5 in c:\\users\\anuraag\\.conda\\envs\\gputest\\lib\\site-packages (from streamlit) (0.5.0)\n",
      "Requirement already satisfied: cachetools>=4.0 in c:\\users\\anuraag\\.conda\\envs\\gputest\\lib\\site-packages (from streamlit) (4.1.1)\n",
      "Requirement already satisfied: botocore>=1.13.44 in c:\\users\\anuraag\\.conda\\envs\\gputest\\lib\\site-packages (from streamlit) (1.19.6)\n",
      "Requirement already satisfied: validators in c:\\users\\anuraag\\.conda\\envs\\gputest\\lib\\site-packages (from streamlit) (0.18.1)\n",
      "Requirement already satisfied: toml in c:\\users\\anuraag\\.conda\\envs\\gputest\\lib\\site-packages (from streamlit) (0.10.1)\n",
      "Requirement already satisfied: enum-compat in c:\\users\\anuraag\\.conda\\envs\\gputest\\lib\\site-packages (from streamlit) (0.0.3)\n",
      "Requirement already satisfied: altair>=3.2.0 in c:\\users\\anuraag\\.conda\\envs\\gputest\\lib\\site-packages (from streamlit) (4.1.0)\n",
      "Requirement already satisfied: watchdog in c:\\users\\anuraag\\.conda\\envs\\gputest\\lib\\site-packages (from streamlit) (0.10.3)\n",
      "Requirement already satisfied: blinker in c:\\users\\anuraag\\.conda\\envs\\gputest\\lib\\site-packages (from streamlit) (1.4)\n",
      "Requirement already satisfied: protobuf>=3.6.0 in c:\\users\\anuraag\\.conda\\envs\\gputest\\lib\\site-packages (from streamlit) (3.13.0)\n",
      "Requirement already satisfied: pandas>=0.21.0 in c:\\users\\anuraag\\.conda\\envs\\gputest\\lib\\site-packages (from streamlit) (1.1.3)\n",
      "Requirement already satisfied: packaging in c:\\users\\anuraag\\.conda\\envs\\gputest\\lib\\site-packages (from streamlit) (20.4)\n",
      "Requirement already satisfied: requests in c:\\users\\anuraag\\.conda\\envs\\gputest\\lib\\site-packages (from streamlit) (2.24.0)\n",
      "Requirement already satisfied: pillow>=6.2.0 in c:\\users\\anuraag\\.conda\\envs\\gputest\\lib\\site-packages (from streamlit) (8.0.1)\n",
      "Requirement already satisfied: astor in c:\\users\\anuraag\\.conda\\envs\\gputest\\lib\\site-packages (from streamlit) (0.8.1)\n",
      "Requirement already satisfied: tornado>=5.0 in c:\\users\\anuraag\\.conda\\envs\\gputest\\lib\\site-packages (from streamlit) (6.0.4)\n",
      "Requirement already satisfied: numpy in c:\\users\\anuraag\\.conda\\envs\\gputest\\lib\\site-packages (from streamlit) (1.19.2)\n",
      "Requirement already satisfied: gitpython in c:\\users\\anuraag\\.conda\\envs\\gputest\\lib\\site-packages (from streamlit) (3.1.11)\n",
      "Requirement already satisfied: pyarrow in c:\\users\\anuraag\\.conda\\envs\\gputest\\lib\\site-packages (from streamlit) (2.0.0)\n",
      "Requirement already satisfied: base58 in c:\\users\\anuraag\\.conda\\envs\\gputest\\lib\\site-packages (from streamlit) (2.0.1)\n",
      "Requirement already satisfied: click>=7.0 in c:\\users\\anuraag\\.conda\\envs\\gputest\\lib\\site-packages (from streamlit) (7.1.2)\n",
      "Requirement already satisfied: boto3 in c:\\users\\anuraag\\.conda\\envs\\gputest\\lib\\site-packages (from streamlit) (1.16.6)\n",
      "Requirement already satisfied: six>=1.5 in c:\\users\\anuraag\\.conda\\envs\\gputest\\lib\\site-packages (from python-dateutil->streamlit) (1.15.0)\n",
      "Requirement already satisfied: pytz in c:\\users\\anuraag\\.conda\\envs\\gputest\\lib\\site-packages (from tzlocal->streamlit) (2020.1)\n",
      "Requirement already satisfied: jinja2>=2.10.1 in c:\\users\\anuraag\\.conda\\envs\\gputest\\lib\\site-packages (from pydeck>=0.1.dev5->streamlit) (2.11.2)\n",
      "Requirement already satisfied: traitlets>=4.3.2 in c:\\users\\anuraag\\.conda\\envs\\gputest\\lib\\site-packages (from pydeck>=0.1.dev5->streamlit) (4.3.3)\n",
      "Requirement already satisfied: ipykernel>=5.1.2; python_version >= \"3.4\" in c:\\users\\anuraag\\.conda\\envs\\gputest\\lib\\site-packages (from pydeck>=0.1.dev5->streamlit) (5.3.4)\n",
      "Requirement already satisfied: ipywidgets>=7.0.0 in c:\\users\\anuraag\\.conda\\envs\\gputest\\lib\\site-packages (from pydeck>=0.1.dev5->streamlit) (7.5.1)\n",
      "Requirement already satisfied: jmespath<1.0.0,>=0.7.1 in c:\\users\\anuraag\\.conda\\envs\\gputest\\lib\\site-packages (from botocore>=1.13.44->streamlit) (0.10.0)\n",
      "Requirement already satisfied: urllib3<1.26,>=1.25.4; python_version != \"3.4\" in c:\\users\\anuraag\\.conda\\envs\\gputest\\lib\\site-packages (from botocore>=1.13.44->streamlit) (1.25.11)\n",
      "Requirement already satisfied: decorator>=3.4.0 in c:\\users\\anuraag\\.conda\\envs\\gputest\\lib\\site-packages (from validators->streamlit) (4.4.2)\n",
      "Requirement already satisfied: jsonschema in c:\\users\\anuraag\\.conda\\envs\\gputest\\lib\\site-packages (from altair>=3.2.0->streamlit) (3.2.0)\n",
      "Requirement already satisfied: entrypoints in c:\\users\\anuraag\\.conda\\envs\\gputest\\lib\\site-packages (from altair>=3.2.0->streamlit) (0.3)\n",
      "Requirement already satisfied: toolz in c:\\users\\anuraag\\.conda\\envs\\gputest\\lib\\site-packages (from altair>=3.2.0->streamlit) (0.11.1)\n",
      "Requirement already satisfied: pathtools>=0.1.1 in c:\\users\\anuraag\\.conda\\envs\\gputest\\lib\\site-packages (from watchdog->streamlit) (0.1.2)\n",
      "Requirement already satisfied: setuptools in c:\\users\\anuraag\\.conda\\envs\\gputest\\lib\\site-packages (from protobuf>=3.6.0->streamlit) (50.3.0.post20201006)\n",
      "Requirement already satisfied: pyparsing>=2.0.2 in c:\\users\\anuraag\\.conda\\envs\\gputest\\lib\\site-packages (from packaging->streamlit) (2.4.7)\n",
      "Requirement already satisfied: idna<3,>=2.5 in c:\\users\\anuraag\\.conda\\envs\\gputest\\lib\\site-packages (from requests->streamlit) (2.10)\n",
      "Requirement already satisfied: certifi>=2017.4.17 in c:\\users\\anuraag\\.conda\\envs\\gputest\\lib\\site-packages (from requests->streamlit) (2020.6.20)\n",
      "Requirement already satisfied: chardet<4,>=3.0.2 in c:\\users\\anuraag\\.conda\\envs\\gputest\\lib\\site-packages (from requests->streamlit) (3.0.4)\n",
      "Requirement already satisfied: gitdb<5,>=4.0.1 in c:\\users\\anuraag\\.conda\\envs\\gputest\\lib\\site-packages (from gitpython->streamlit) (4.0.5)\n",
      "Requirement already satisfied: s3transfer<0.4.0,>=0.3.0 in c:\\users\\anuraag\\.conda\\envs\\gputest\\lib\\site-packages (from boto3->streamlit) (0.3.3)\n",
      "Requirement already satisfied: MarkupSafe>=0.23 in c:\\users\\anuraag\\.conda\\envs\\gputest\\lib\\site-packages (from jinja2>=2.10.1->pydeck>=0.1.dev5->streamlit) (1.1.1)\n",
      "Requirement already satisfied: ipython-genutils in c:\\users\\anuraag\\.conda\\envs\\gputest\\lib\\site-packages (from traitlets>=4.3.2->pydeck>=0.1.dev5->streamlit) (0.2.0)\n",
      "Requirement already satisfied: ipython>=5.0.0 in c:\\users\\anuraag\\.conda\\envs\\gputest\\lib\\site-packages (from ipykernel>=5.1.2; python_version >= \"3.4\"->pydeck>=0.1.dev5->streamlit) (7.16.1)\n",
      "Requirement already satisfied: jupyter-client in c:\\users\\anuraag\\.conda\\envs\\gputest\\lib\\site-packages (from ipykernel>=5.1.2; python_version >= \"3.4\"->pydeck>=0.1.dev5->streamlit) (6.1.7)\n",
      "Requirement already satisfied: nbformat>=4.2.0 in c:\\users\\anuraag\\.conda\\envs\\gputest\\lib\\site-packages (from ipywidgets>=7.0.0->pydeck>=0.1.dev5->streamlit) (5.0.8)\n",
      "Requirement already satisfied: widgetsnbextension~=3.5.0 in c:\\users\\anuraag\\.conda\\envs\\gputest\\lib\\site-packages (from ipywidgets>=7.0.0->pydeck>=0.1.dev5->streamlit) (3.5.1)\n",
      "Requirement already satisfied: attrs>=17.4.0 in c:\\users\\anuraag\\.conda\\envs\\gputest\\lib\\site-packages (from jsonschema->altair>=3.2.0->streamlit) (20.2.0)\n",
      "Requirement already satisfied: pyrsistent>=0.14.0 in c:\\users\\anuraag\\.conda\\envs\\gputest\\lib\\site-packages (from jsonschema->altair>=3.2.0->streamlit) (0.17.3)\n",
      "Requirement already satisfied: importlib-metadata; python_version < \"3.8\" in c:\\users\\anuraag\\.conda\\envs\\gputest\\lib\\site-packages (from jsonschema->altair>=3.2.0->streamlit) (2.0.0)\n",
      "Requirement already satisfied: smmap<4,>=3.0.1 in c:\\users\\anuraag\\.conda\\envs\\gputest\\lib\\site-packages (from gitdb<5,>=4.0.1->gitpython->streamlit) (3.0.4)\n",
      "Requirement already satisfied: pygments in c:\\users\\anuraag\\.conda\\envs\\gputest\\lib\\site-packages (from ipython>=5.0.0->ipykernel>=5.1.2; python_version >= \"3.4\"->pydeck>=0.1.dev5->streamlit) (2.7.1)\n",
      "Requirement already satisfied: prompt-toolkit!=3.0.0,!=3.0.1,<3.1.0,>=2.0.0 in c:\\users\\anuraag\\.conda\\envs\\gputest\\lib\\site-packages (from ipython>=5.0.0->ipykernel>=5.1.2; python_version >= \"3.4\"->pydeck>=0.1.dev5->streamlit) (3.0.8)\n",
      "Requirement already satisfied: colorama; sys_platform == \"win32\" in c:\\users\\anuraag\\.conda\\envs\\gputest\\lib\\site-packages (from ipython>=5.0.0->ipykernel>=5.1.2; python_version >= \"3.4\"->pydeck>=0.1.dev5->streamlit) (0.4.4)\n",
      "Requirement already satisfied: jedi>=0.10 in c:\\users\\anuraag\\.conda\\envs\\gputest\\lib\\site-packages (from ipython>=5.0.0->ipykernel>=5.1.2; python_version >= \"3.4\"->pydeck>=0.1.dev5->streamlit) (0.17.2)\n",
      "Requirement already satisfied: backcall in c:\\users\\anuraag\\.conda\\envs\\gputest\\lib\\site-packages (from ipython>=5.0.0->ipykernel>=5.1.2; python_version >= \"3.4\"->pydeck>=0.1.dev5->streamlit) (0.2.0)\n",
      "Requirement already satisfied: pickleshare in c:\\users\\anuraag\\.conda\\envs\\gputest\\lib\\site-packages (from ipython>=5.0.0->ipykernel>=5.1.2; python_version >= \"3.4\"->pydeck>=0.1.dev5->streamlit) (0.7.5)\n",
      "Requirement already satisfied: jupyter-core>=4.6.0 in c:\\users\\anuraag\\.conda\\envs\\gputest\\lib\\site-packages (from jupyter-client->ipykernel>=5.1.2; python_version >= \"3.4\"->pydeck>=0.1.dev5->streamlit) (4.6.3)\n",
      "Requirement already satisfied: pyzmq>=13 in c:\\users\\anuraag\\.conda\\envs\\gputest\\lib\\site-packages (from jupyter-client->ipykernel>=5.1.2; python_version >= \"3.4\"->pydeck>=0.1.dev5->streamlit) (19.0.2)\n",
      "Requirement already satisfied: notebook>=4.4.1 in c:\\users\\anuraag\\.conda\\envs\\gputest\\lib\\site-packages (from widgetsnbextension~=3.5.0->ipywidgets>=7.0.0->pydeck>=0.1.dev5->streamlit) (6.0.3)\n",
      "Requirement already satisfied: zipp>=0.5 in c:\\users\\anuraag\\.conda\\envs\\gputest\\lib\\site-packages (from importlib-metadata; python_version < \"3.8\"->jsonschema->altair>=3.2.0->streamlit) (3.4.0)\n",
      "Requirement already satisfied: wcwidth in c:\\users\\anuraag\\.conda\\envs\\gputest\\lib\\site-packages (from prompt-toolkit!=3.0.0,!=3.0.1,<3.1.0,>=2.0.0->ipython>=5.0.0->ipykernel>=5.1.2; python_version >= \"3.4\"->pydeck>=0.1.dev5->streamlit) (0.2.5)\n",
      "Requirement already satisfied: parso<0.8.0,>=0.7.0 in c:\\users\\anuraag\\.conda\\envs\\gputest\\lib\\site-packages (from jedi>=0.10->ipython>=5.0.0->ipykernel>=5.1.2; python_version >= \"3.4\"->pydeck>=0.1.dev5->streamlit) (0.7.0)\n",
      "Requirement already satisfied: pywin32>=1.0; sys_platform == \"win32\" in c:\\users\\anuraag\\.conda\\envs\\gputest\\lib\\site-packages (from jupyter-core>=4.6.0->jupyter-client->ipykernel>=5.1.2; python_version >= \"3.4\"->pydeck>=0.1.dev5->streamlit) (227)\n",
      "Requirement already satisfied: prometheus-client in c:\\users\\anuraag\\.conda\\envs\\gputest\\lib\\site-packages (from notebook>=4.4.1->widgetsnbextension~=3.5.0->ipywidgets>=7.0.0->pydeck>=0.1.dev5->streamlit) (0.8.0)\n",
      "Requirement already satisfied: Send2Trash in c:\\users\\anuraag\\.conda\\envs\\gputest\\lib\\site-packages (from notebook>=4.4.1->widgetsnbextension~=3.5.0->ipywidgets>=7.0.0->pydeck>=0.1.dev5->streamlit) (1.5.0)\n",
      "Requirement already satisfied: nbconvert in c:\\users\\anuraag\\.conda\\envs\\gputest\\lib\\site-packages (from notebook>=4.4.1->widgetsnbextension~=3.5.0->ipywidgets>=7.0.0->pydeck>=0.1.dev5->streamlit) (6.0.7)\n",
      "Requirement already satisfied: terminado>=0.8.1 in c:\\users\\anuraag\\.conda\\envs\\gputest\\lib\\site-packages (from notebook>=4.4.1->widgetsnbextension~=3.5.0->ipywidgets>=7.0.0->pydeck>=0.1.dev5->streamlit) (0.9.1)\n",
      "Requirement already satisfied: nbclient<0.6.0,>=0.5.0 in c:\\users\\anuraag\\.conda\\envs\\gputest\\lib\\site-packages (from nbconvert->notebook>=4.4.1->widgetsnbextension~=3.5.0->ipywidgets>=7.0.0->pydeck>=0.1.dev5->streamlit) (0.5.1)\n",
      "Requirement already satisfied: mistune<2,>=0.8.1 in c:\\users\\anuraag\\.conda\\envs\\gputest\\lib\\site-packages (from nbconvert->notebook>=4.4.1->widgetsnbextension~=3.5.0->ipywidgets>=7.0.0->pydeck>=0.1.dev5->streamlit) (0.8.4)Note: you may need to restart the kernel to use updated packages.\n",
      "Requirement already satisfied: bleach in c:\\users\\anuraag\\.conda\\envs\\gputest\\lib\\site-packages (from nbconvert->notebook>=4.4.1->widgetsnbextension~=3.5.0->ipywidgets>=7.0.0->pydeck>=0.1.dev5->streamlit) (3.2.1)\n",
      "Requirement already satisfied: defusedxml in c:\\users\\anuraag\\.conda\\envs\\gputest\\lib\\site-packages (from nbconvert->notebook>=4.4.1->widgetsnbextension~=3.5.0->ipywidgets>=7.0.0->pydeck>=0.1.dev5->streamlit) (0.6.0)\n",
      "Requirement already satisfied: pandocfilters>=1.4.1 in c:\\users\\anuraag\\.conda\\envs\\gputest\\lib\\site-packages (from nbconvert->notebook>=4.4.1->widgetsnbextension~=3.5.0->ipywidgets>=7.0.0->pydeck>=0.1.dev5->streamlit) (1.4.2)\n",
      "\n"
     ]
    },
    {
     "name": "stdout",
     "output_type": "stream",
     "text": [
      "Requirement already satisfied: testpath in c:\\users\\anuraag\\.conda\\envs\\gputest\\lib\\site-packages (from nbconvert->notebook>=4.4.1->widgetsnbextension~=3.5.0->ipywidgets>=7.0.0->pydeck>=0.1.dev5->streamlit) (0.4.4)\n",
      "Requirement already satisfied: jupyterlab-pygments in c:\\users\\anuraag\\.conda\\envs\\gputest\\lib\\site-packages (from nbconvert->notebook>=4.4.1->widgetsnbextension~=3.5.0->ipywidgets>=7.0.0->pydeck>=0.1.dev5->streamlit) (0.1.2)\n",
      "Requirement already satisfied: pywinpty>=0.5 in c:\\users\\anuraag\\.conda\\envs\\gputest\\lib\\site-packages (from terminado>=0.8.1->notebook>=4.4.1->widgetsnbextension~=3.5.0->ipywidgets>=7.0.0->pydeck>=0.1.dev5->streamlit) (0.5.7)\n",
      "Requirement already satisfied: async-generator in c:\\users\\anuraag\\.conda\\envs\\gputest\\lib\\site-packages (from nbclient<0.6.0,>=0.5.0->nbconvert->notebook>=4.4.1->widgetsnbextension~=3.5.0->ipywidgets>=7.0.0->pydeck>=0.1.dev5->streamlit) (1.10)\n",
      "Requirement already satisfied: nest-asyncio in c:\\users\\anuraag\\.conda\\envs\\gputest\\lib\\site-packages (from nbclient<0.6.0,>=0.5.0->nbconvert->notebook>=4.4.1->widgetsnbextension~=3.5.0->ipywidgets>=7.0.0->pydeck>=0.1.dev5->streamlit) (1.4.1)\n",
      "Requirement already satisfied: webencodings in c:\\users\\anuraag\\.conda\\envs\\gputest\\lib\\site-packages (from bleach->nbconvert->notebook>=4.4.1->widgetsnbextension~=3.5.0->ipywidgets>=7.0.0->pydeck>=0.1.dev5->streamlit) (0.5.1)\n"
     ]
    }
   ],
   "source": [
    "pip install streamlit"
   ]
  },
  {
   "cell_type": "code",
   "execution_count": null,
   "metadata": {},
   "outputs": [],
   "source": [
    "pip install numpy"
   ]
  },
  {
   "cell_type": "code",
   "execution_count": null,
   "metadata": {},
   "outputs": [],
   "source": [
    "!pip install face_recognition"
   ]
  },
  {
   "cell_type": "code",
   "execution_count": null,
   "metadata": {},
   "outputs": [],
   "source": [
    "pip install tqdm"
   ]
  },
  {
   "cell_type": "code",
   "execution_count": null,
   "metadata": {},
   "outputs": [],
   "source": [
    "pip install sklearn"
   ]
  },
  {
   "cell_type": "code",
   "execution_count": 4,
   "metadata": {},
   "outputs": [
    {
     "name": "stdout",
     "output_type": "stream",
     "text": [
      "True\n"
     ]
    }
   ],
   "source": [
    "import tensorflow as tf\n",
    "print(tf.test.is_gpu_available())\n"
   ]
  },
  {
   "cell_type": "code",
   "execution_count": 5,
   "metadata": {},
   "outputs": [],
   "source": [
    "import dlib\n",
    "dlib.DLIB_USE_CUDA\n",
    "\n",
    "import numpy as np\n",
    "import joblib\n",
    "import pickle\n",
    "import face_recognition\n",
    "from sklearn import svm\n",
    "import os\n"
   ]
  },
  {
   "cell_type": "code",
   "execution_count": 57,
   "metadata": {},
   "outputs": [],
   "source": [
    "import face_recognition\n",
    "from sklearn import svm\n",
    "import os\n",
    "\n",
    "# Training the SVC classifier\n",
    "\n",
    "# The training data would be all the face encodings from all the known images and the labels are their names\n",
    "encodings = []\n",
    "names = []\n",
    "\n",
    "# Training directory\n",
    "train_dir = os.listdir('C:/Users/Anuraag/Desktop/OLD OFFICE/FACE_REC_SVC/train_dir/')"
   ]
  },
  {
   "cell_type": "code",
   "execution_count": 58,
   "metadata": {},
   "outputs": [
    {
     "name": "stderr",
     "output_type": "stream",
     "text": [
      "100%|██████████████████████████████████████████████████████████████████████████████████| 40/40 [02:23<00:00,  3.58s/it]"
     ]
    },
    {
     "name": "stdout",
     "output_type": "stream",
     "text": [
      "Done learning and creating profiles\n",
      "--- 143.09603476524353 seconds ---\n"
     ]
    },
    {
     "name": "stderr",
     "output_type": "stream",
     "text": [
      "\n"
     ]
    }
   ],
   "source": [
    "from tqdm import tqdm\n",
    "import time\n",
    "start_time = time.time()\n",
    "# Loop through each person in the training directory\n",
    "for person in tqdm(train_dir):\n",
    "    pix = os.listdir(\"C:/Users/Anuraag/Desktop/OLD OFFICE/FACE_REC_SVC/train_dir/\" + person)\n",
    "\n",
    "    # Loop through each training image for the current person\n",
    "    for person_img in pix:\n",
    "        # Get the face encodings for the face in each image file\n",
    "        face = face_recognition.load_image_file(\"C:/Users/Anuraag/Desktop/OLD OFFICE/FACE_REC_SVC/train_dir/\" + person + \"/\" + person_img)\n",
    "        face_bounding_boxes = face_recognition.face_locations(face)\n",
    "\n",
    "        #If training image contains exactly one face\n",
    "        if len(face_bounding_boxes) == 1:\n",
    "            face_enc = face_recognition.face_encodings(face)[0]\n",
    "            # Add face encoding for current image with corresponding label (name) to the training data\n",
    "            encodings.append(face_enc)\n",
    "            names.append(person)\n",
    "        else:\n",
    "            print(person + \"/\" + person_img + \" was skipped and can't be used for training\")\n",
    "\n",
    "print(\"Done learning and creating profiles\")\n",
    "joblib.dump(encodings,\"face_encoding\")\n",
    "joblib.dump(names,\"name_encoding\")\n",
    "print(\"--- %s seconds ---\" % (time.time() - start_time))"
   ]
  },
  {
   "cell_type": "code",
   "execution_count": 59,
   "metadata": {},
   "outputs": [
    {
     "data": {
      "text/plain": [
       "['name_encoding']"
      ]
     },
     "execution_count": 59,
     "metadata": {},
     "output_type": "execute_result"
    }
   ],
   "source": [
    "import numpy as np\n",
    "import joblib\n",
    "joblib.dump(encodings,\"face_encoding\")\n",
    "joblib.dump(names,\"name_encoding\")"
   ]
  },
  {
   "cell_type": "code",
   "execution_count": 60,
   "metadata": {},
   "outputs": [
    {
     "name": "stdout",
     "output_type": "stream",
     "text": [
      "--- 0.9599947929382324 seconds ---\n"
     ]
    }
   ],
   "source": [
    "import time\n",
    "start_time = time.time()\n",
    "known_face_encodings = joblib.load(\"face_encoding\")\n",
    "known_name_encoding = joblib.load(\"name_encoding\")\n",
    "# Create and train the SVC classifier\n",
    "clf = svm.SVC(gamma='scale',probability=True)\n",
    "clf.fit(known_face_encodings,known_name_encoding)\n",
    "print(\"--- %s seconds ---\" % (time.time() - start_time))"
   ]
  },
  {
   "cell_type": "code",
   "execution_count": 62,
   "metadata": {},
   "outputs": [],
   "source": [
    "pickle.dump(clf, open(filename, 'wb'))"
   ]
  },
  {
   "cell_type": "code",
   "execution_count": 61,
   "metadata": {},
   "outputs": [],
   "source": [
    "filename = 'finalized_model.sav'"
   ]
  },
  {
   "cell_type": "code",
   "execution_count": 63,
   "metadata": {},
   "outputs": [],
   "source": [
    "loaded_model = pickle.load(open(filename, 'rb'))\n"
   ]
  },
  {
   "cell_type": "code",
   "execution_count": 64,
   "metadata": {},
   "outputs": [
    {
     "data": {
      "text/plain": [
       "SVC(probability=True)"
      ]
     },
     "execution_count": 64,
     "metadata": {},
     "output_type": "execute_result"
    }
   ],
   "source": [
    "loaded_model"
   ]
  },
  {
   "cell_type": "code",
   "execution_count": null,
   "metadata": {},
   "outputs": [],
   "source": [
    "joblib.dump(clf,\"clf_model\")"
   ]
  },
  {
   "cell_type": "code",
   "execution_count": 4,
   "metadata": {},
   "outputs": [],
   "source": [
    "clf_model_final = joblib.load(\"clf_model\")"
   ]
  },
  {
   "cell_type": "code",
   "execution_count": 5,
   "metadata": {},
   "outputs": [
    {
     "data": {
      "text/plain": [
       "SVC(probability=True)"
      ]
     },
     "execution_count": 5,
     "metadata": {},
     "output_type": "execute_result"
    }
   ],
   "source": [
    "clf_model_final"
   ]
  },
  {
   "cell_type": "code",
   "execution_count": 153,
   "metadata": {},
   "outputs": [],
   "source": [
    "# Load the test image with unknown faces into a numpy array\n",
    "test_image = face_recognition.load_image_file('rishav.jpg')"
   ]
  },
  {
   "cell_type": "code",
   "execution_count": 156,
   "metadata": {},
   "outputs": [
    {
     "data": {
      "text/plain": [
       "[(56, 145, 146, 56)]"
      ]
     },
     "execution_count": 156,
     "metadata": {},
     "output_type": "execute_result"
    }
   ],
   "source": [
    "face_locations = face_recognition.face_locations(test_image)\n",
    "face_locations\n"
   ]
  },
  {
   "cell_type": "code",
   "execution_count": 152,
   "metadata": {},
   "outputs": [
    {
     "name": "stdout",
     "output_type": "stream",
     "text": [
      "Number of faces detected:  1\n"
     ]
    }
   ],
   "source": [
    "# Find all the faces in the test image using the default HOG-based model\n",
    "face_locations = face_recognition.face_locations(test_image)\n",
    "no = len(face_locations)\n",
    "print(\"Number of faces detected: \", no)"
   ]
  },
  {
   "cell_type": "code",
   "execution_count": 151,
   "metadata": {},
   "outputs": [
    {
     "name": "stdout",
     "output_type": "stream",
     "text": [
      "EMPLOYEE -> anuraag\n"
     ]
    },
    {
     "data": {
      "image/png": "[encoded data removed]",
      "text/plain": [
       "<PIL.Image.Image image mode=RGB size=640x480 at 0x1E7269F10B8>"
      ]
     },
     "metadata": {},
     "output_type": "display_data"
    },
    {
     "name": "stdout",
     "output_type": "stream",
     "text": [
      "TIME TAKEN BY SCRIPT --- 0.2525362968444824 seconds ---\n",
      "0.436648815788968\n"
     ]
    }
   ],
   "source": [
    "import time\n",
    "from PIL import Image, ImageDraw\n",
    "start_time = time.time()\n",
    "import numpy as np\n",
    "# Predict all the faces in the test image using the trained classifier\n",
    "for i in range(no):\n",
    "    test_image_enc = face_recognition.face_encodings(test_image)[i]\n",
    "\n",
    "thresh = loaded_model.predict_proba([test_image_enc])\n",
    "thresh_updated = thresh*100\n",
    "result = []\n",
    "\n",
    "pil_image = Image.fromarray(test_image)\n",
    "draw = ImageDraw.Draw(pil_image) \n",
    "\n",
    "for prob in thresh:\n",
    "    if (prob > 0.1).any():\n",
    "        result = np.where(prob > 0.1, True, False)\n",
    "        \"\"\"if result == True:\n",
    "            \n",
    "            res = [i for i, val in enumerate(result) if val]\n",
    "            integers = res\n",
    "            strings = [str(integer) for integer in integers]\n",
    "            a_string = \"\".join(strings)\n",
    "            an_integer = int(a_string)\n",
    "            print(train_dir[an_integer])\"\"\"\n",
    "        res = [i for i, val in enumerate(result) if val]\n",
    "        integers = res\n",
    "        strings = [str(integer) for integer in integers]\n",
    "        a_string = \"\".join(strings)\n",
    "        an_integer = int(a_string)\n",
    "        print(\"EMPLOYEE\"+\" -> \"+train_dir[an_integer])\n",
    "    else:\n",
    "        print(\"UNKNOWN USER\")\n",
    "\n",
    "display(pil_image)\n",
    "print(\"TIME TAKEN BY SCRIPT --- %s seconds ---\" % (time.time() - start_time))\n",
    "print(thresh.max())"
   ]
  },
  {
   "cell_type": "code",
   "execution_count": 126,
   "metadata": {},
   "outputs": [],
   "source": [
    "import cv2\n",
    "videoCaptureObject = cv2.VideoCapture(0)\n",
    "result = True\n",
    "while(result):\n",
    "    ret,frame = videoCaptureObject.read()\n",
    "    cv2.imwrite(\"NewPicture.jpg\",frame)\n",
    "    result = False\n",
    "videoCaptureObject.release()\n",
    "cv2.destroyAllWindows()\n"
   ]
  },
  {
   "cell_type": "code",
   "execution_count": null,
   "metadata": {},
   "outputs": [],
   "source": [
    "known_face_encodings = joblib.load(\"face_encoding\")\n",
    "known_name_encoding = joblib.load(\"name_encoding\")"
   ]
  },
  {
   "cell_type": "code",
   "execution_count": 145,
   "metadata": {},
   "outputs": [
    {
     "data": {
      "text/plain": [
       "array([[0.03845203, 0.03050502, 0.01225078, 0.01084858, 0.01323938,\n",
       "        0.02519889, 0.03387057, 0.02245617, 0.02644949, 0.01402205,\n",
       "        0.02104565, 0.02339348, 0.03764776, 0.00910662, 0.02776572,\n",
       "        0.01757502, 0.01719221, 0.01715519, 0.0256408 , 0.04108392,\n",
       "        0.01639863, 0.01363376, 0.01066188, 0.01936482, 0.01972406,\n",
       "        0.01145971, 0.03214608, 0.01691371, 0.02240852, 0.03570104,\n",
       "        0.02565225, 0.01351674, 0.06207198, 0.03409841, 0.0619146 ,\n",
       "        0.05095259, 0.00909296, 0.01760226, 0.01012427, 0.05166242]])"
      ]
     },
     "execution_count": 145,
     "metadata": {},
     "output_type": "execute_result"
    }
   ],
   "source": [
    "thresh"
   ]
  },
  {
   "cell_type": "code",
   "execution_count": null,
   "metadata": {},
   "outputs": [],
   "source": [
    "known_name_encodings"
   ]
  },
  {
   "cell_type": "code",
   "execution_count": null,
   "metadata": {},
   "outputs": [],
   "source": [
    "df_data = []\n",
    "df_data.append(df[0][0:128])"
   ]
  },
  {
   "cell_type": "code",
   "execution_count": null,
   "metadata": {},
   "outputs": [],
   "source": [
    "aa = loaded_model.predict_proba(df_data)\n",
    "for i in aa:\n",
    "    print(i)\n",
    "len(aa)"
   ]
  },
  {
   "cell_type": "code",
   "execution_count": null,
   "metadata": {},
   "outputs": [],
   "source": [
    "len(known_face_encodings[0])"
   ]
  },
  {
   "cell_type": "code",
   "execution_count": null,
   "metadata": {},
   "outputs": [],
   "source": [
    "int(res)"
   ]
  },
  {
   "cell_type": "code",
   "execution_count": null,
   "metadata": {},
   "outputs": [],
   "source": [
    "integers = res\n",
    "strings = [str(integer) for integer in integers]\n",
    "a_string = \"\".join(strings)\n",
    "an_integer = int(a_string)\n",
    "print(train_dir[an_integer])"
   ]
  },
  {
   "cell_type": "code",
   "execution_count": null,
   "metadata": {},
   "outputs": [],
   "source": [
    "an_integer\n"
   ]
  },
  {
   "cell_type": "code",
   "execution_count": null,
   "metadata": {},
   "outputs": [],
   "source": [
    "train_dir[an_integer]"
   ]
  },
  {
   "cell_type": "code",
   "execution_count": null,
   "metadata": {},
   "outputs": [],
   "source": [
    "import inspect\n",
    "print(inspect.getsource(face_recognition.face_distance))\n"
   ]
  },
  {
   "cell_type": "code",
   "execution_count": null,
   "metadata": {},
   "outputs": [],
   "source": [
    "def predict_proba(self, X):\n",
    "        X = self._validate_for_predict(X)\n",
    "        if self.probA_.size == 0 or self.probB_.size == 0:\n",
    "            raise NotFittedError(\"predict_proba is not available when fitted \"\n",
    "                                 \"with probability=False\")\n",
    "        pred_proba = (self._sparse_predict_proba\n",
    "                      if self._sparse else self._dense_predict_proba)\n",
    "        return pred_proba(X)"
   ]
  },
  {
   "cell_type": "code",
   "execution_count": null,
   "metadata": {},
   "outputs": [],
   "source": [
    "test_image_enc"
   ]
  },
  {
   "cell_type": "code",
   "execution_count": null,
   "metadata": {},
   "outputs": [],
   "source": [
    "# Predict all the faces in the test image using the trained classifier\n",
    "print(\"Found:\")\n",
    "for i in range(no):\n",
    "    test_image_enc = face_recognition.face_encodings(test_image)[i]\n",
    "    name = clf.predict([test_image_enc])\n",
    "    print(*name)"
   ]
  },
  {
   "cell_type": "code",
   "execution_count": null,
   "metadata": {},
   "outputs": [],
   "source": [
    "clf.predict_proba([test_image_enc])"
   ]
  },
  {
   "cell_type": "code",
   "execution_count": null,
   "metadata": {},
   "outputs": [],
   "source": []
  },
  {
   "cell_type": "code",
   "execution_count": null,
   "metadata": {},
   "outputs": [],
   "source": []
  },
  {
   "cell_type": "code",
   "execution_count": null,
   "metadata": {},
   "outputs": [],
   "source": [
    "thresh = clf.predict_proba([test_image_enc])"
   ]
  },
  {
   "cell_type": "code",
   "execution_count": null,
   "metadata": {},
   "outputs": [],
   "source": [
    "thresh"
   ]
  },
  {
   "cell_type": "code",
   "execution_count": null,
   "metadata": {},
   "outputs": [],
   "source": [
    "record = []\n",
    "for x in thresh:\n",
    "    record.append(x)\n",
    "        "
   ]
  },
  {
   "cell_type": "code",
   "execution_count": null,
   "metadata": {},
   "outputs": [],
   "source": [
    "thresh = clf.predict_proba([test_image_enc])\n",
    "for prob in thresh:\n",
    "    if (prob > 0.1).any():\n",
    "        name = clf.predict([test_image_enc])\n",
    "        print(*name)\n",
    "    else:\n",
    "        print(\"UNKNOWN USER\")"
   ]
  },
  {
   "cell_type": "code",
   "execution_count": null,
   "metadata": {},
   "outputs": [],
   "source": [
    "face_locations"
   ]
  },
  {
   "cell_type": "code",
   "execution_count": null,
   "metadata": {},
   "outputs": [],
   "source": [
    "known_name_encoding"
   ]
  },
  {
   "cell_type": "code",
   "execution_count": null,
   "metadata": {},
   "outputs": [],
   "source": []
  },
  {
   "cell_type": "code",
   "execution_count": null,
   "metadata": {},
   "outputs": [],
   "source": [
    "result = []\n",
    "for x in thresh:\n",
    "    result.append(x)"
   ]
  },
  {
   "cell_type": "code",
   "execution_count": null,
   "metadata": {},
   "outputs": [],
   "source": [
    "type(result)"
   ]
  },
  {
   "cell_type": "code",
   "execution_count": null,
   "metadata": {},
   "outputs": [],
   "source": [
    "train_dir"
   ]
  },
  {
   "cell_type": "code",
   "execution_count": null,
   "metadata": {},
   "outputs": [],
   "source": [
    "list(zip(result,train_dir))"
   ]
  },
  {
   "cell_type": "code",
   "execution_count": null,
   "metadata": {},
   "outputs": [],
   "source": [
    "print(result.join(train_dir))"
   ]
  },
  {
   "cell_type": "code",
   "execution_count": null,
   "metadata": {},
   "outputs": [],
   "source": []
  },
  {
   "cell_type": "code",
   "execution_count": null,
   "metadata": {},
   "outputs": [],
   "source": []
  },
  {
   "cell_type": "code",
   "execution_count": null,
   "metadata": {},
   "outputs": [],
   "source": []
  },
  {
   "cell_type": "code",
   "execution_count": null,
   "metadata": {},
   "outputs": [],
   "source": []
  },
  {
   "cell_type": "code",
   "execution_count": null,
   "metadata": {},
   "outputs": [],
   "source": []
  },
  {
   "cell_type": "code",
   "execution_count": null,
   "metadata": {},
   "outputs": [],
   "source": []
  },
  {
   "cell_type": "code",
   "execution_count": null,
   "metadata": {},
   "outputs": [],
   "source": []
  },
  {
   "cell_type": "code",
   "execution_count": null,
   "metadata": {},
   "outputs": [],
   "source": []
  },
  {
   "cell_type": "code",
   "execution_count": null,
   "metadata": {},
   "outputs": [],
   "source": []
  },
  {
   "cell_type": "code",
   "execution_count": null,
   "metadata": {},
   "outputs": [],
   "source": []
  },
  {
   "cell_type": "code",
   "execution_count": null,
   "metadata": {},
   "outputs": [],
   "source": [
    "# Train multiple images per person\n",
    "# Find and recognize faces in an image using a SVC with scikit-learn\n",
    "\n",
    "\"\"\"\n",
    "Structure:\n",
    "        <test_image>.jpg\n",
    "        <train_dir>/\n",
    "            <person_1>/\n",
    "                <person_1_face-1>.jpg\n",
    "                <person_1_face-2>.jpg\n",
    "                .\n",
    "                .\n",
    "                <person_1_face-n>.jpg\n",
    "           <person_2>/\n",
    "                <person_2_face-1>.jpg\n",
    "                <person_2_face-2>.jpg\n",
    "                .\n",
    "                .\n",
    "                <person_2_face-n>.jpg\n",
    "            .\n",
    "            .\n",
    "            <person_n>/\n",
    "                <person_n_face-1>.jpg\n",
    "                <person_n_face-2>.jpg\n",
    "                .\n",
    "                .\n",
    "                <person_n_face-n>.jpg\n",
    "\"\"\"\n",
    "\n",
    "import face_recognition\n",
    "from sklearn import svm\n",
    "import os\n",
    "\n",
    "# Training the SVC classifier\n",
    "\n",
    "# The training data would be all the face encodings from all the known images and the labels are their names\n",
    "encodings = []\n",
    "names = []\n",
    "\n",
    "# Training directory\n",
    "train_dir = os.listdir('C:/Users/Anuraag/Desktop/FACE_REC_SVC/train_dir/')\n",
    "\n",
    "# Loop through each person in the training directory\n",
    "for person in train_dir:\n",
    "    pix = os.listdir(\"C:/Users/Anuraag/Desktop/FACE_REC_SVC/train_dir/\" + person)\n",
    "\n",
    "    # Loop through each training image for the current person\n",
    "    for person_img in pix:\n",
    "        # Get the face encodings for the face in each image file\n",
    "        face = face_recognition.load_image_file(\"C:/Users/Anuraag/Desktop/FACE_REC_SVC/train_dir/\" + person + \"/\" + person_img)\n",
    "        face_bounding_boxes = face_recognition.face_locations(face)\n",
    "\n",
    "        #If training image contains exactly one face\n",
    "        if len(face_bounding_boxes) == 1:\n",
    "            face_enc = face_recognition.face_encodings(face)[0]\n",
    "            # Add face encoding for current image with corresponding label (name) to the training data\n",
    "            encodings.append(face_enc)\n",
    "            names.append(person)\n",
    "        else:\n",
    "            print(person + \"/\" + person_img + \" was skipped and can't be used for training\")\n",
    "\n",
    "# Create and train the SVC classifier\n",
    "clf = svm.SVC(gamma='scale')\n",
    "clf.fit(encodings,names)\n",
    "\n",
    "# Load the test image with unknown faces into a numpy array\n",
    "test_image = face_recognition.load_image_file('test_image.jpg')\n",
    "\n",
    "# Find all the faces in the test image using the default HOG-based model\n",
    "face_locations = face_recognition.face_locations(test_image)\n",
    "no = len(face_locations)\n",
    "print(\"Number of faces detected: \", no)\n",
    "\n",
    "# Predict all the faces in the test image using the trained classifier\n",
    "print(\"Found:\")\n",
    "for i in range(no):\n",
    "    test_image_enc = face_recognition.face_encodings(test_image)[i]\n",
    "    name = clf.predict([test_image_enc])\n",
    "    print(*name)"
   ]
  },
  {
   "cell_type": "code",
   "execution_count": null,
   "metadata": {},
   "outputs": [],
   "source": []
  }
 ],
 "metadata": {
  "kernelspec": {
   "display_name": "Python 3",
   "language": "python",
   "name": "python3"
  },
  "language_info": {
   "codemirror_mode": {
    "name": "ipython",
    "version": 3
   },
   "file_extension": ".py",
   "mimetype": "text/x-python",
   "name": "python",
   "nbconvert_exporter": "python",
   "pygments_lexer": "ipython3",
   "version": "3.6.12"
  }
 },
 "nbformat": 4,
 "nbformat_minor": 2
}
